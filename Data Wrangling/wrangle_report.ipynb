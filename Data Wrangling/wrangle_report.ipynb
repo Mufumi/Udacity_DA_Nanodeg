{
 "cells": [
  {
   "cell_type": "markdown",
   "metadata": {},
   "source": [
    "## Reporting: wrangle_report"
   ]
  },
  {
   "cell_type": "markdown",
   "metadata": {},
   "source": [
    "#### Asking questions about the dataset "
   ]
  },
  {
   "cell_type": "markdown",
   "metadata": {},
   "source": [
    "Part of the data anlysis process includes asking insightful questions that can assist in solving a problem or bring better insight into an observation. This requirement is equally as important when wrangling the data. Asking questions about the dataset will structure the wrangling process.\n",
    "\n",
    "For these datasets, these questions included topics such as:\n",
    "\n",
    "* Validation (Correct data types)\n",
    "* Duplication\n",
    "* Quality\n",
    "* Tidiness (following the Tidy Dataset framework)\n",
    "* Comprehensiveness\n",
    "* Sources of data"
   ]
  },
  {
   "cell_type": "markdown",
   "metadata": {},
   "source": [
    "#### Acquiring the data"
   ]
  },
  {
   "cell_type": "markdown",
   "metadata": {},
   "source": [
    "For this exercise, the data was obtained from multiple sources. Namely\n",
    "\n",
    "* Twitter API\n",
    "* Secure file server\n",
    "* Generated txt file"
   ]
  },
  {
   "cell_type": "markdown",
   "metadata": {},
   "source": [
    "##### Twitter API\n",
    "\n",
    "The twitter API was used to obtain primarily two additional sources of data `retweet_count` and `favorite_count`"
   ]
  },
  {
   "cell_type": "markdown",
   "metadata": {},
   "source": [
    "###### Authentication\n",
    "\n",
    "All secure APIs require authentication. For the Twitter API, the authentication method used was [OAuth](https://www.csoonline.com/article/3216404/what-is-oauth-how-the-open-authorization-framework-works.html), which is _an open-standard authorization protocol or framework that describes how unrelated servers and services can safely allow authenticated access to their assets without sharing the initial, related, single logon credential_\n",
    "\n",
    "For secure authentication, the OAuth handler requires a `consumer key` and `secret` which can be obtained from the user generated Twitter application - found when a user enables [development](https://developer.twitter.com/en/docs/twitter-api/getting-started/about-twitter-api) capability within their profile. For this project the `Elevated` tier was required to complete the project. This requires an automated application to Twitter profile access. Once granted, the user can utilize more API functionality."
   ]
  },
  {
   "cell_type": "markdown",
   "metadata": {},
   "source": [
    "###### Library API Version"
   ]
  },
  {
   "cell_type": "markdown",
   "metadata": {},
   "source": [
    "The library API version that is going to be queried is important since functions, methods and definitions change per library version. For this project, the tweepy library was used to query the API with its version being `3.5.0`"
   ]
  },
  {
   "cell_type": "markdown",
   "metadata": {},
   "source": [
    "#### Secure file server"
   ]
  },
  {
   "cell_type": "markdown",
   "metadata": {},
   "source": [
    "A file containing the predictions for the images is loaded into the environment using a `get` request to the server. Since this file is `tsv` containing text, encoding needs to be performed on the file to access the contents in a readable manner."
   ]
  },
  {
   "cell_type": "markdown",
   "metadata": {},
   "source": [
    "#### Generated text file"
   ]
  },
  {
   "cell_type": "markdown",
   "metadata": {},
   "source": [
    "All relevant tweet data is then dumped into a json file if the query was successful. "
   ]
  },
  {
   "cell_type": "markdown",
   "metadata": {},
   "source": [
    "#### Cleaning"
   ]
  },
  {
   "cell_type": "markdown",
   "metadata": {},
   "source": [
    "The more intensive part of the wrangling process is cleaning.\n",
    "\n",
    "For this project, the `twitter_archive` file was primarily the one with **Quality** and **Tidiness** issues, with the biggest being\n",
    "\n",
    "* Wrong data types\n",
    "* Incorrect entry format\n",
    "* Wide variables\n",
    "* Erroneous entries\n",
    "\n",
    "It is important to remember that the primary objective of the cleaning phase, also includes having a comprehensive, tidy and rich dataset that is simple to analyze"
   ]
  }
 ],
 "metadata": {
  "kernelspec": {
   "display_name": "Python 3",
   "language": "python",
   "name": "python3"
  },
  "language_info": {
   "codemirror_mode": {
    "name": "ipython",
    "version": 3
   },
   "file_extension": ".py",
   "mimetype": "text/x-python",
   "name": "python",
   "nbconvert_exporter": "python",
   "pygments_lexer": "ipython3",
   "version": "3.6.3"
  }
 },
 "nbformat": 4,
 "nbformat_minor": 2
}
